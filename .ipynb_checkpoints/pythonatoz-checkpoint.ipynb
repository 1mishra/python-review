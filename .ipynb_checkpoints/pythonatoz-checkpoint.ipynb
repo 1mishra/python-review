{
 "cells": [
  {
   "cell_type": "markdown",
   "metadata": {},
   "source": [
    "This tutorial contains all the python basics inspiration from from cs231n Stanford lectures\n",
    "\n",
    "https://github.com/kuleshov/cs228-material/blob/master/tutorials/python/cs228-python-tutorial.ipynb"
   ]
  },
  {
   "cell_type": "markdown",
   "metadata": {},
   "source": [
    "### Python basics:\n",
    "    Basic Datatypes\n",
    "    Containers:\n",
    "        Lists\n",
    "        Dictionaries\n",
    "        Sets\n",
    "        Tuples\n",
    "    Functions \n",
    "    Classes\n",
    "\n",
    "\n",
    "\n",
    "    \n"
   ]
  },
  {
   "cell_type": "code",
   "execution_count": 32,
   "metadata": {},
   "outputs": [
    {
     "name": "stdout",
     "output_type": "stream",
     "text": [
      "3\n",
      "4 2 6 9\n",
      "4\n",
      "8\n",
      "<class 'float'>\n",
      "2.5 3.5 5.0 6.25\n"
     ]
    }
   ],
   "source": [
    "#Numbers\n",
    "\n",
    "x = 3\n",
    "print(x)\n",
    "type(x)\n",
    "\n",
    "print (x+1, x-1, x*2,x**2)\n",
    "x+=1\n",
    "print(x)\n",
    "x*=2\n",
    "print(x)\n",
    "\n",
    "y = 2.5\n",
    "print(type(y))\n",
    "print(y,y+1,y*2,y**2)"
   ]
  },
  {
   "cell_type": "markdown",
   "metadata": {},
   "source": [
    "Note that unlike many languages, Python does not have unary increment (x++) or decrement (x--) operators.\n",
    "\n"
   ]
  },
  {
   "cell_type": "code",
   "execution_count": 33,
   "metadata": {},
   "outputs": [
    {
     "name": "stdout",
     "output_type": "stream",
     "text": [
      "<class 'bool'>\n"
     ]
    }
   ],
   "source": [
    "#Boolean\n",
    "\n",
    "t,f = True, False\n",
    "print(type(t))"
   ]
  },
  {
   "cell_type": "code",
   "execution_count": 35,
   "metadata": {},
   "outputs": [
    {
     "name": "stdout",
     "output_type": "stream",
     "text": [
      "False\n",
      "True\n",
      "False\n",
      "True\n"
     ]
    }
   ],
   "source": [
    "print(t and f)\n",
    "print(t or f)\n",
    "print(not t)\n",
    "print(t != f)"
   ]
  },
  {
   "cell_type": "code",
   "execution_count": 38,
   "metadata": {},
   "outputs": [
    {
     "name": "stdout",
     "output_type": "stream",
     "text": [
      "hello\n"
     ]
    },
    {
     "data": {
      "text/plain": [
       "(None, 5)"
      ]
     },
     "execution_count": 38,
     "metadata": {},
     "output_type": "execute_result"
    }
   ],
   "source": [
    "#strings\n",
    "#they can use single or double quotes:\n",
    "hello = 'hello'   # String literals can use single quotes\n",
    "world = \"world\"   # or double quotes; it does not matter.\n",
    "print (hello), len(hello)"
   ]
  },
  {
   "cell_type": "code",
   "execution_count": 40,
   "metadata": {},
   "outputs": [
    {
     "name": "stdout",
     "output_type": "stream",
     "text": [
      "hello world\n"
     ]
    }
   ],
   "source": [
    "hw = hello + ' ' + world  # String concatenation\n",
    "print (hw)  # prints \"hello world\""
   ]
  },
  {
   "cell_type": "code",
   "execution_count": 49,
   "metadata": {},
   "outputs": [
    {
     "name": "stdout",
     "output_type": "stream",
     "text": [
      "hello  world  12\n"
     ]
    }
   ],
   "source": [
    "hw12  =  '%s  %s  %d'  %  (hello,  world,  12)\n",
    "# sprintf style string formatting\n",
    "print (hw12)  # prints \"hello world 12\""
   ]
  },
  {
   "cell_type": "code",
   "execution_count": 61,
   "metadata": {},
   "outputs": [
    {
     "name": "stdout",
     "output_type": "stream",
     "text": [
      "Hello\n",
      "HELLO\n",
      "  hello\n",
      " hello \n",
      " hello \n",
      "heellello\n",
      "world\n"
     ]
    }
   ],
   "source": [
    "s = \"hello\"\n",
    "print(s.capitalize())\n",
    "print(s.upper())\n",
    "print(s.rjust(7))\n",
    "print(s.center(7))\n",
    "print(s.center(7))\n",
    "print(s.replace('l',('ell')))\n",
    "print('     world    '.strip())"
   ]
  },
  {
   "cell_type": "code",
   "execution_count": 74,
   "metadata": {},
   "outputs": [
    {
     "name": "stdout",
     "output_type": "stream",
     "text": [
      "[3, 1, 2] 2\n",
      "2\n",
      "[3, 1, 'foo']\n",
      "[3, 1, 'foo', 'bar']\n",
      "bar [3, 1, 'foo']\n"
     ]
    }
   ],
   "source": [
    "## Containers\n",
    "#Lists\n",
    "xs = [3,1,2]\n",
    "print(xs,xs[2])\n",
    "print(xs[-1])\n",
    "xs[2] = 'foo'\n",
    "print(xs)\n",
    "xs.append('bar')\n",
    "print(xs)\n",
    "x = xs.pop() #prints what has popped out\n",
    "print(x,xs)"
   ]
  },
  {
   "cell_type": "code",
   "execution_count": 101,
   "metadata": {},
   "outputs": [
    {
     "name": "stdout",
     "output_type": "stream",
     "text": [
      "[0, 1, 2, 3, 4]\n",
      "[2, 3]\n",
      "[2, 3, 4]\n",
      "[0, 1]\n",
      "[0, 1, 2, 3, 4]\n",
      "[0, 1, 2, 3]\n",
      "[0, 1, 8, 9, 4]\n"
     ]
    }
   ],
   "source": [
    "#Slicing\n",
    "nums = []\n",
    "for i in range(5):\n",
    "    nums.append(i)\n",
    "print(nums)\n",
    "print(nums[2:4])\n",
    "print(nums[2:])\n",
    "print(nums[:2])\n",
    "print(nums[:])\n",
    "print(nums[:-1])\n",
    "nums[2:4] = [8,9]\n",
    "print(nums)\n"
   ]
  },
  {
   "cell_type": "code",
   "execution_count": 111,
   "metadata": {},
   "outputs": [
    {
     "name": "stdout",
     "output_type": "stream",
     "text": [
      "#1: ghada\n",
      "#2: ghoda\n",
      "#3: khachhar\n"
     ]
    }
   ],
   "source": [
    "#Loops\n",
    "animals = ['ghada','ghoda','khachhar']\n",
    "for idx, animal in enumerate(animals):\n",
    "    print('#%d: %s' % (idx+1, animal))"
   ]
  },
  {
   "cell_type": "code",
   "execution_count": 116,
   "metadata": {},
   "outputs": [
    {
     "name": "stdout",
     "output_type": "stream",
     "text": [
      "[0, 1, 4, 9, 16]\n",
      "[0, 1, 4, 9, 16]\n",
      "[0, 4, 16]\n"
     ]
    }
   ],
   "source": [
    "#List comprehensions. Mostly used to transform 1 datatype to another\n",
    "nums = [0,1,2,3,4]\n",
    "squares = []\n",
    "for x in nums:\n",
    "    squares.append(x**2)\n",
    "print(squares)\n",
    "\n",
    "#or lc style is:\n",
    "\n",
    "lcsquares = [x**2 for x in nums]\n",
    "print(lcsquares)\n",
    "\n",
    "lcevensquares = [x ** 2 for x in nums if x % 2 == 0 ]\n",
    "print(lcevensquares)"
   ]
  },
  {
   "cell_type": "code",
   "execution_count": 124,
   "metadata": {},
   "outputs": [
    {
     "name": "stdout",
     "output_type": "stream",
     "text": [
      "ronaldo\n",
      "True\n",
      "beckham\n",
      "N/A\n",
      "beckham\n",
      "N/A\n"
     ]
    }
   ],
   "source": [
    "#Dictionaries. Map in java is the same\n",
    "d = {'cristiano':'ronaldo','leo':'messi','sunil':'chettri'}\n",
    "print(d['cristiano']) # Get an entry from a dictionary\n",
    "print('leo' in d) # Check if a dictionary has a given key; prints \"True\"\n",
    "d['david'] = 'beckham' #set an entry in dictionary \n",
    "print(d['david'])\n",
    "print(d.get('guti','N/A')) # Get an element with a default; prints \"N/A\"\n",
    "print(d.get('david','N/A')) # Get an element with a default; prints \"beckham\"\n",
    "del d['david']\n",
    "print(d.get('david','N/A')) # Get an element with a default; prints \"N/A\"\n"
   ]
  },
  {
   "cell_type": "code",
   "execution_count": 133,
   "metadata": {},
   "outputs": [
    {
     "name": "stdout",
     "output_type": "stream",
     "text": [
      "A bicycle has 2 wheels\n",
      "A car has 4 wheels\n",
      "A scooter has 2 wheels\n"
     ]
    }
   ],
   "source": [
    "#Loops\n",
    "d = {'bicycle':2, 'car':4, 'scooter':2}\n",
    "for vehicle in d:\n",
    "    wheels = d[vehicle]\n",
    "    print('A %s has %d wheels' % (vehicle,wheels)) \n",
    "\n",
    "    \n",
    "    "
   ]
  },
  {
   "cell_type": "code",
   "execution_count": 134,
   "metadata": {},
   "outputs": [
    {
     "name": "stdout",
     "output_type": "stream",
     "text": [
      "A bicycle has 2 wheels\n",
      "A car has 4 wheels\n",
      "A scooter has 2 wheels\n"
     ]
    }
   ],
   "source": [
    "# in order to access keys and corresponding values, use items method\n",
    "for vehicle,wheels in d.items():\n",
    "    print('A %s has %d wheels' % (vehicle,wheels))"
   ]
  },
  {
   "cell_type": "code",
   "execution_count": 136,
   "metadata": {},
   "outputs": [
    {
     "name": "stdout",
     "output_type": "stream",
     "text": [
      "{0: 0, 2: 4, 4: 16}\n"
     ]
    }
   ],
   "source": [
    "#Dictionary comprehension\n",
    "nums = [0,1,2,3,4]\n",
    "even_num_to_square = {x: x** 2 for x in nums if x % 2 == 0}\n",
    "print(even_num_to_square)"
   ]
  },
  {
   "cell_type": "code",
   "execution_count": 145,
   "metadata": {},
   "outputs": [
    {
     "name": "stdout",
     "output_type": "stream",
     "text": [
      "True\n",
      "False\n",
      "True\n",
      "3\n",
      "2\n",
      "{0, 1, 2, 3, 4}\n"
     ]
    }
   ],
   "source": [
    "#Sets\n",
    "cars = {'ferrari','lambo'}\n",
    "print('ferrari' in cars) # Check if an element is in a set; prints \"True\"\n",
    "print('fiat' in cars)\n",
    "cars.add('fiat')\n",
    "print('fiat' in cars)\n",
    "print(len(cars))\n",
    "cars.remove('fiat')\n",
    "print(len(cars))\n",
    "\n",
    "\n",
    "#set comprehension\n",
    "\n",
    "from math import sqrt\n",
    "nums = {int(sqrt(x)) for x in range(20)}\n",
    "print (nums)"
   ]
  },
  {
   "cell_type": "code",
   "execution_count": null,
   "metadata": {},
   "outputs": [],
   "source": []
  },
  {
   "cell_type": "code",
   "execution_count": 146,
   "metadata": {},
   "outputs": [
    {
     "name": "stdout",
     "output_type": "stream",
     "text": [
      "<class 'tuple'>\n",
      "5\n",
      "1\n"
     ]
    }
   ],
   "source": [
    "#Tuples\n",
    "#immutable ordered list of values. \n",
    "#tuples can be used as keys in dictionaries and elements of sets\n",
    "d = {(x, x+1): x for x in range(10)} #create dictionary with tuple keys\n",
    "t = (5,6)\n",
    "print(type(t))\n",
    "print(d[t])\n",
    "print(d[1,2])\n"
   ]
  },
  {
   "cell_type": "code",
   "execution_count": 148,
   "metadata": {},
   "outputs": [
    {
     "name": "stdout",
     "output_type": "stream",
     "text": [
      "negative\n",
      "zero\n",
      "positive\n",
      "Hello, Bob\n",
      "Hello FRED!\n"
     ]
    }
   ],
   "source": [
    "#Functions\n",
    "def sign(x):\n",
    "    if x>0:\n",
    "        return 'positive'\n",
    "    elif x<0:\n",
    "        return 'negative'\n",
    "    else:\n",
    "        return 'zero'\n",
    "for x in [-1,0,1]:\n",
    "    print(sign(x))\n",
    "    \n",
    "#we can define functions to take optional keywords\n",
    "\n",
    "def hello(name, loud = False):\n",
    "    if loud:\n",
    "        print('Hello %s!' % name.upper())\n",
    "    else:\n",
    "        print('Hello, %s' % name)\n",
    "\n",
    "hello('Bob')\n",
    "hello('Fred', loud = True)"
   ]
  },
  {
   "cell_type": "code",
   "execution_count": 152,
   "metadata": {},
   "outputs": [
    {
     "name": "stdout",
     "output_type": "stream",
     "text": [
      "Hello, Maluma\n",
      "Hello MALUMA!\n"
     ]
    }
   ],
   "source": [
    "#Classes\n",
    "class Greet(object):\n",
    "    #Constructor\n",
    "    def __init__(self,name):\n",
    "        self.name = name #creates an instance variable\n",
    "        \n",
    "    #instance method\n",
    "    def greet(self, loud = False):\n",
    "        if loud:\n",
    "            print('Hello %s!' % self.name.upper())\n",
    "        else:\n",
    "            print('Hello, %s' % self.name)\n",
    "g= Greet('Maluma') #construct an instance of Greet class\n",
    "g.greet() #instance method\n",
    "g.greet(loud = True)\n",
    "    "
   ]
  },
  {
   "cell_type": "markdown",
   "metadata": {},
   "source": [
    "\n",
    "### Numpy:\n",
    "    Arrays\n",
    "    Array indexing\n",
    "    Datatypes\n",
    "    Array Math\n",
    "    Broadcasting"
   ]
  },
  {
   "cell_type": "markdown",
   "metadata": {},
   "source": [
    "#### A numpy array is a grid of values, all are of same type, they have nonnegative tuple indexing. They are initialized via nested Pythons lists\n",
    "\n",
    "Rank = Number of dimensions\n",
    "Shape = tuple of integers"
   ]
  },
  {
   "cell_type": "code",
   "execution_count": 26,
   "metadata": {},
   "outputs": [
    {
     "name": "stdout",
     "output_type": "stream",
     "text": [
      "<class 'numpy.ndarray'>\n",
      "(3,)\n",
      "1 2 3\n",
      "[120   2   3]\n",
      "(2, 3)\n",
      "1 2 2\n"
     ]
    }
   ],
   "source": [
    "import numpy as np\n",
    "\n",
    "a = np.array([1,2,3]) # creates array of rank 1\n",
    "print(type(a)) # Prints \"<class 'numpy.ndarray'>\"\n",
    "print(a.shape) # Prints \"(3,)\"\n",
    "print(a[0],a[1],a[2]) # Prints \"1 2 3\"\n",
    "a[0] = 120 # changes an element of the array\n",
    "print(a, sep = \",\") # prints \"Prints [120 2 3]\"\n",
    "\n",
    "b = np.array([[1,2,3],[2,4,5]]) # creates a rank of array as 2\n",
    "print(b.shape) # prints (2,3) i.e. the size of the matrix\n",
    "print(b[0,0],b[0,1],b[1,0]) # prints 1 2\n"
   ]
  },
  {
   "cell_type": "code",
   "execution_count": 25,
   "metadata": {},
   "outputs": [
    {
     "name": "stdout",
     "output_type": "stream",
     "text": [
      "[[ 0.  0.]\n",
      " [ 0.  0.]]\n",
      "[[ 1.  1.  1.]\n",
      " [ 1.  1.  1.]]\n",
      "[[7 7]\n",
      " [7 7]]\n",
      "[[ 1.  0.]\n",
      " [ 0.  1.]]\n",
      "[[ 0.95634623  0.31447948]\n",
      " [ 0.97589351  0.19803792]]\n"
     ]
    }
   ],
   "source": [
    "#Other ways to create array on numpy\n",
    "\n",
    "a= np.zeros((2,2)) # creates array of all zeros\n",
    "print(a)\n",
    "\n",
    "b = np.ones((2,3)) # creates array of all ones\n",
    "print(b)\n",
    "\n",
    "c = np.full((2,2), 7) # creates constant array\n",
    "print(c)\n",
    "\n",
    "d= np.eye(2) # creates a 2 by 2 identity matrix\n",
    "print(d)\n",
    "\n",
    "e = np.random.random((2,2)) # creates an array filled with random \n",
    "print(e)"
   ]
  },
  {
   "cell_type": "markdown",
   "metadata": {},
   "source": [
    "## Array indexing\n"
   ]
  },
  {
   "cell_type": "markdown",
   "metadata": {},
   "source": [
    "#### Slicing\n",
    "it is similar to slicing python lists. Moreover, since the array are multidimensional, we have to specify each arraiy dimension that is getting sliced\n"
   ]
  },
  {
   "cell_type": "code",
   "execution_count": 33,
   "metadata": {},
   "outputs": [
    {
     "name": "stdout",
     "output_type": "stream",
     "text": [
      "[[ 1  2  3  4]\n",
      " [ 5  6  7  8]\n",
      " [ 9 10 11 12]]\n",
      "[[2 3]\n",
      " [6 7]]\n",
      "2\n",
      "77\n"
     ]
    }
   ],
   "source": [
    "import numpy as np\n",
    "\n",
    "# Create the following rank 2 array with shape (3, 4)\n",
    "# [[ 1  2  3  4]\n",
    "#  [ 5  6  7  8]\n",
    "#  [ 9 10 11 12]]\n",
    "\n",
    "a = np.array([[1,2,3,4], [5,6,7,8], [9,10,11,12]])\n",
    "print(a)\n",
    "\n",
    "# Use slicing to pull out the subarray consisting of the first 2 rows\n",
    "# and columns 1 and 2; b is the following array of shape (2, 2):\n",
    "# [[2 3]\n",
    "#  [6 7]]\n",
    "\n",
    "b = a[:2, 1:3]\n",
    "print(b)\n",
    "\n",
    "# making any changes to the sliced array also changes the original array\n",
    "print(a[0,1])  # Prints \"2\"\n",
    "b[0,0] = 77   # b[0, 0] is the same piece of data as a[0, 1]\n",
    "print(a[0,1]) # prints \"77\""
   ]
  },
  {
   "cell_type": "code",
   "execution_count": 34,
   "metadata": {},
   "outputs": [
    {
     "name": "stdout",
     "output_type": "stream",
     "text": [
      "[5 6 7 8] (4,)\n",
      "[[5 6 7 8]] (1, 4)\n",
      "[ 2  6 10] (3,)\n",
      "[[ 2]\n",
      " [ 6]\n",
      " [10]] (3, 1)\n"
     ]
    }
   ],
   "source": [
    "import numpy as np\n",
    "# Create the following rank 2 array with shape (3, 4)\n",
    "# [[ 1  2  3  4]\n",
    "#  [ 5  6  7  8]\n",
    "#  [ 9 10 11 12]]\n",
    "\n",
    "a = np.array([[1,2,3,4], [5,6,7,8], [9,10,11,12]])\n",
    "\n",
    "# 2 ways of accessing the data in the middle row of array \n",
    "# integer indexing gives array of lower rank\n",
    "row_r1 = a[1, :]\n",
    "print(row_r1, row_r1.shape)  # Prints \"[5 6 7 8] (4,)\"\n",
    "\n",
    "\n",
    "# slicing yields array of the same rank as original\n",
    "row_r2 = a[1:2,:]\n",
    "print(row_r2, row_r2.shape)  # Prints \"[[5 6 7 8]] (1, 4)\"\n",
    "\n",
    "# We can make the same distinction when accessing columns of an array:\n",
    "col_r1 = a[:, 1]\n",
    "col_r2 = a[:, 1:2]\n",
    "print(col_r1, col_r1.shape)  # Prints \"[ 2  6 10] (3,)\"\n",
    "print(col_r2, col_r2.shape)  # Prints \"[[ 2]\n",
    "                             #          [ 6]\n",
    "                             #          [10]] (3, 1)\"\n",
    "\n"
   ]
  },
  {
   "cell_type": "code",
   "execution_count": null,
   "metadata": {},
   "outputs": [],
   "source": []
  },
  {
   "cell_type": "markdown",
   "metadata": {},
   "source": [
    "    \n",
    "### Matplotlib:\n",
    "    Plotting \n",
    "    Subplots\n",
    "    Images"
   ]
  },
  {
   "cell_type": "code",
   "execution_count": null,
   "metadata": {},
   "outputs": [],
   "source": []
  },
  {
   "cell_type": "markdown",
   "metadata": {},
   "source": [
    "    \n",
    "### IPython:\n",
    "    Create notebooks\n",
    "    Typical workflows"
   ]
  },
  {
   "cell_type": "code",
   "execution_count": null,
   "metadata": {},
   "outputs": [],
   "source": []
  },
  {
   "cell_type": "markdown",
   "metadata": {},
   "source": [
    "### Sorting:\n",
    "      Quicksort\n",
    "      Bubble \n",
    "      Merge \n",
    "      Insertion \n",
    "      Shell \n",
    "      Selection\n",
    "        \n",
    "      inspired from:\n",
    "        https://www.tutorialspoint.com/python/python_sorting_algorithms.htm\n",
    "    "
   ]
  },
  {
   "cell_type": "markdown",
   "metadata": {},
   "source": [
    "## Sorting"
   ]
  },
  {
   "cell_type": "markdown",
   "metadata": {},
   "source": [
    "Quicksort - divide and conquer algorithm - involves recursion\n",
    "\n",
    "Finds Pivot, which divides array into 2 halves\n",
    "\n",
    "Left half < Pivot < Right half\n",
    "^ First Qsort         ^ Second QSOrt"
   ]
  },
  {
   "cell_type": "markdown",
   "metadata": {},
   "source": [
    "##### Quicksort"
   ]
  },
  {
   "cell_type": "code",
   "execution_count": 14,
   "metadata": {},
   "outputs": [
    {
     "name": "stdout",
     "output_type": "stream",
     "text": [
      "[1, 1, 2, 3, 6, 8, 10]\n"
     ]
    }
   ],
   "source": [
    "def quicksort(arr):\n",
    "    if len(arr) <= 1:\n",
    "        return arr\n",
    "    pivot = arr[len(arr) // 2]\n",
    "    left = [x for x in arr if x < pivot]\n",
    "    middle = [x for x in arr if x == pivot]\n",
    "    right = [x for x in arr if x > pivot]\n",
    "    return quicksort(left) + middle + quicksort(right)\n",
    "\n",
    "print(quicksort([3,6,8,10,1,2,1]))"
   ]
  },
  {
   "cell_type": "code",
   "execution_count": 15,
   "metadata": {},
   "outputs": [
    {
     "name": "stdout",
     "output_type": "stream",
     "text": [
      "[2, 6, 11, 19, 27, 31, 45, 121]\n"
     ]
    }
   ],
   "source": [
    "def bubblesort(list):\n",
    "\n",
    "# Swap the elements to arrange in order\n",
    "    for iter_num in range(len(list)-1,0,-1):\n",
    "        for idx in range(iter_num):\n",
    "            if list[idx]>list[idx+1]:\n",
    "                temp = list[idx]\n",
    "                list[idx] = list[idx+1]\n",
    "                list[idx+1] = temp\n",
    "\n",
    "\n",
    "list = [19,2,31,45,6,11,121,27]\n",
    "bubblesort(list)\n",
    "print(list)"
   ]
  },
  {
   "cell_type": "code",
   "execution_count": 16,
   "metadata": {},
   "outputs": [
    {
     "ename": "TypeError",
     "evalue": "'list' object is not callable",
     "output_type": "error",
     "traceback": [
      "\u001b[0;31m---------------------------------------------------------------------------\u001b[0m",
      "\u001b[0;31mTypeError\u001b[0m                                 Traceback (most recent call last)",
      "\u001b[0;32m<ipython-input-16-3b12121e3284>\u001b[0m in \u001b[0;36m<module>\u001b[0;34m()\u001b[0m\n\u001b[1;32m     31\u001b[0m \u001b[0munsorted_list\u001b[0m \u001b[0;34m=\u001b[0m \u001b[0;34m[\u001b[0m\u001b[0;36m64\u001b[0m\u001b[0;34m,\u001b[0m \u001b[0;36m34\u001b[0m\u001b[0;34m,\u001b[0m \u001b[0;36m25\u001b[0m\u001b[0;34m,\u001b[0m \u001b[0;36m12\u001b[0m\u001b[0;34m,\u001b[0m \u001b[0;36m22\u001b[0m\u001b[0;34m,\u001b[0m \u001b[0;36m11\u001b[0m\u001b[0;34m,\u001b[0m \u001b[0;36m90\u001b[0m\u001b[0;34m]\u001b[0m\u001b[0;34m\u001b[0m\u001b[0m\n\u001b[1;32m     32\u001b[0m \u001b[0;34m\u001b[0m\u001b[0m\n\u001b[0;32m---> 33\u001b[0;31m \u001b[0mprint\u001b[0m\u001b[0;34m(\u001b[0m\u001b[0mmerge_sort\u001b[0m\u001b[0;34m(\u001b[0m\u001b[0munsorted_list\u001b[0m\u001b[0;34m)\u001b[0m\u001b[0;34m)\u001b[0m\u001b[0;34m\u001b[0m\u001b[0m\n\u001b[0m",
      "\u001b[0;32m<ipython-input-16-3b12121e3284>\u001b[0m in \u001b[0;36mmerge_sort\u001b[0;34m(unsorted_list)\u001b[0m\n\u001b[1;32m      7\u001b[0m     \u001b[0mright_list\u001b[0m \u001b[0;34m=\u001b[0m \u001b[0munsorted_list\u001b[0m\u001b[0;34m[\u001b[0m\u001b[0mmiddle\u001b[0m\u001b[0;34m:\u001b[0m\u001b[0;34m]\u001b[0m\u001b[0;34m\u001b[0m\u001b[0m\n\u001b[1;32m      8\u001b[0m \u001b[0;34m\u001b[0m\u001b[0m\n\u001b[0;32m----> 9\u001b[0;31m     \u001b[0mleft_list\u001b[0m \u001b[0;34m=\u001b[0m \u001b[0mmerge_sort\u001b[0m\u001b[0;34m(\u001b[0m\u001b[0mleft_list\u001b[0m\u001b[0;34m)\u001b[0m\u001b[0;34m\u001b[0m\u001b[0m\n\u001b[0m\u001b[1;32m     10\u001b[0m     \u001b[0mright_list\u001b[0m \u001b[0;34m=\u001b[0m \u001b[0mmerge_sort\u001b[0m\u001b[0;34m(\u001b[0m\u001b[0mright_list\u001b[0m\u001b[0;34m)\u001b[0m\u001b[0;34m\u001b[0m\u001b[0m\n\u001b[1;32m     11\u001b[0m     \u001b[0;32mreturn\u001b[0m \u001b[0mlist\u001b[0m\u001b[0;34m(\u001b[0m\u001b[0mmerge\u001b[0m\u001b[0;34m(\u001b[0m\u001b[0mleft_list\u001b[0m\u001b[0;34m,\u001b[0m \u001b[0mright_list\u001b[0m\u001b[0;34m)\u001b[0m\u001b[0;34m)\u001b[0m\u001b[0;34m\u001b[0m\u001b[0m\n",
      "\u001b[0;32m<ipython-input-16-3b12121e3284>\u001b[0m in \u001b[0;36mmerge_sort\u001b[0;34m(unsorted_list)\u001b[0m\n\u001b[1;32m      8\u001b[0m \u001b[0;34m\u001b[0m\u001b[0m\n\u001b[1;32m      9\u001b[0m     \u001b[0mleft_list\u001b[0m \u001b[0;34m=\u001b[0m \u001b[0mmerge_sort\u001b[0m\u001b[0;34m(\u001b[0m\u001b[0mleft_list\u001b[0m\u001b[0;34m)\u001b[0m\u001b[0;34m\u001b[0m\u001b[0m\n\u001b[0;32m---> 10\u001b[0;31m     \u001b[0mright_list\u001b[0m \u001b[0;34m=\u001b[0m \u001b[0mmerge_sort\u001b[0m\u001b[0;34m(\u001b[0m\u001b[0mright_list\u001b[0m\u001b[0;34m)\u001b[0m\u001b[0;34m\u001b[0m\u001b[0m\n\u001b[0m\u001b[1;32m     11\u001b[0m     \u001b[0;32mreturn\u001b[0m \u001b[0mlist\u001b[0m\u001b[0;34m(\u001b[0m\u001b[0mmerge\u001b[0m\u001b[0;34m(\u001b[0m\u001b[0mleft_list\u001b[0m\u001b[0;34m,\u001b[0m \u001b[0mright_list\u001b[0m\u001b[0;34m)\u001b[0m\u001b[0;34m)\u001b[0m\u001b[0;34m\u001b[0m\u001b[0m\n\u001b[1;32m     12\u001b[0m \u001b[0;34m\u001b[0m\u001b[0m\n",
      "\u001b[0;32m<ipython-input-16-3b12121e3284>\u001b[0m in \u001b[0;36mmerge_sort\u001b[0;34m(unsorted_list)\u001b[0m\n\u001b[1;32m      9\u001b[0m     \u001b[0mleft_list\u001b[0m \u001b[0;34m=\u001b[0m \u001b[0mmerge_sort\u001b[0m\u001b[0;34m(\u001b[0m\u001b[0mleft_list\u001b[0m\u001b[0;34m)\u001b[0m\u001b[0;34m\u001b[0m\u001b[0m\n\u001b[1;32m     10\u001b[0m     \u001b[0mright_list\u001b[0m \u001b[0;34m=\u001b[0m \u001b[0mmerge_sort\u001b[0m\u001b[0;34m(\u001b[0m\u001b[0mright_list\u001b[0m\u001b[0;34m)\u001b[0m\u001b[0;34m\u001b[0m\u001b[0m\n\u001b[0;32m---> 11\u001b[0;31m     \u001b[0;32mreturn\u001b[0m \u001b[0mlist\u001b[0m\u001b[0;34m(\u001b[0m\u001b[0mmerge\u001b[0m\u001b[0;34m(\u001b[0m\u001b[0mleft_list\u001b[0m\u001b[0;34m,\u001b[0m \u001b[0mright_list\u001b[0m\u001b[0;34m)\u001b[0m\u001b[0;34m)\u001b[0m\u001b[0;34m\u001b[0m\u001b[0m\n\u001b[0m\u001b[1;32m     12\u001b[0m \u001b[0;34m\u001b[0m\u001b[0m\n\u001b[1;32m     13\u001b[0m \u001b[0;31m# Merge the sorted halves\u001b[0m\u001b[0;34m\u001b[0m\u001b[0;34m\u001b[0m\u001b[0m\n",
      "\u001b[0;31mTypeError\u001b[0m: 'list' object is not callable"
     ]
    }
   ],
   "source": [
    "def merge_sort(unsorted_list):\n",
    "    if len(unsorted_list) <= 1:\n",
    "        return unsorted_list\n",
    "# Find the middle point and devide it\n",
    "    middle = len(unsorted_list) // 2\n",
    "    left_list = unsorted_list[:middle]\n",
    "    right_list = unsorted_list[middle:]\n",
    "\n",
    "    left_list = merge_sort(left_list)\n",
    "    right_list = merge_sort(right_list)\n",
    "    return list(merge(left_list, right_list))\n",
    "\n",
    "# Merge the sorted halves\n",
    "\n",
    "def merge(left_half,right_half):\n",
    "\n",
    "    res = []\n",
    "    while len(left_half) != 0 and len(right_half) != 0:\n",
    "        if left_half[0] < right_half[0]:\n",
    "            res.append(left_half[0])\n",
    "            left_half.remove(left_half[0])\n",
    "        else:\n",
    "            res.append(right_half[0])\n",
    "            right_half.remove(right_half[0])\n",
    "    if len(left_half) == 0:\n",
    "        res = res + right_half\n",
    "    else:\n",
    "        res = res + left_half\n",
    "    return res\n",
    "\n",
    "unsorted_list = [64, 34, 25, 12, 22, 11, 90]\n",
    "\n",
    "print(merge_sort(unsorted_list))"
   ]
  },
  {
   "cell_type": "code",
   "execution_count": 17,
   "metadata": {},
   "outputs": [
    {
     "name": "stdout",
     "output_type": "stream",
     "text": [
      "[2, 11, 19, 27, 30, 31, 45, 121]\n"
     ]
    }
   ],
   "source": [
    "def insertion_sort(InputList):\n",
    "    for i in range(1, len(InputList)):\n",
    "        j = i-1\n",
    "        nxt_element = InputList[i]\n",
    "# Compare the current element with next one\n",
    "\t\t\n",
    "        while (InputList[j] > nxt_element) and (j >= 0):\n",
    "            InputList[j+1] = InputList[j]\n",
    "            j=j-1\n",
    "        InputList[j+1] = nxt_element\n",
    "\n",
    "list = [19,2,31,45,30,11,121,27]\n",
    "insertion_sort(list)\n",
    "print(list)"
   ]
  },
  {
   "cell_type": "code",
   "execution_count": 18,
   "metadata": {},
   "outputs": [
    {
     "ename": "TypeError",
     "evalue": "'float' object cannot be interpreted as an integer",
     "output_type": "error",
     "traceback": [
      "\u001b[0;31m---------------------------------------------------------------------------\u001b[0m",
      "\u001b[0;31mTypeError\u001b[0m                                 Traceback (most recent call last)",
      "\u001b[0;32m<ipython-input-18-b55d564411c9>\u001b[0m in \u001b[0;36m<module>\u001b[0;34m()\u001b[0m\n\u001b[1;32m     20\u001b[0m \u001b[0mlist\u001b[0m \u001b[0;34m=\u001b[0m \u001b[0;34m[\u001b[0m\u001b[0;36m19\u001b[0m\u001b[0;34m,\u001b[0m\u001b[0;36m2\u001b[0m\u001b[0;34m,\u001b[0m\u001b[0;36m31\u001b[0m\u001b[0;34m,\u001b[0m\u001b[0;36m45\u001b[0m\u001b[0;34m,\u001b[0m\u001b[0;36m30\u001b[0m\u001b[0;34m,\u001b[0m\u001b[0;36m11\u001b[0m\u001b[0;34m,\u001b[0m\u001b[0;36m121\u001b[0m\u001b[0;34m,\u001b[0m\u001b[0;36m27\u001b[0m\u001b[0;34m]\u001b[0m\u001b[0;34m\u001b[0m\u001b[0m\n\u001b[1;32m     21\u001b[0m \u001b[0;34m\u001b[0m\u001b[0m\n\u001b[0;32m---> 22\u001b[0;31m \u001b[0mshellSort\u001b[0m\u001b[0;34m(\u001b[0m\u001b[0mlist\u001b[0m\u001b[0;34m)\u001b[0m\u001b[0;34m\u001b[0m\u001b[0m\n\u001b[0m\u001b[1;32m     23\u001b[0m \u001b[0mprint\u001b[0m\u001b[0;34m(\u001b[0m\u001b[0mlist\u001b[0m\u001b[0;34m)\u001b[0m\u001b[0;34m\u001b[0m\u001b[0m\n",
      "\u001b[0;32m<ipython-input-18-b55d564411c9>\u001b[0m in \u001b[0;36mshellSort\u001b[0;34m(input_list)\u001b[0m\n\u001b[1;32m      4\u001b[0m     \u001b[0;32mwhile\u001b[0m \u001b[0mgap\u001b[0m \u001b[0;34m>\u001b[0m \u001b[0;36m0\u001b[0m\u001b[0;34m:\u001b[0m\u001b[0;34m\u001b[0m\u001b[0m\n\u001b[1;32m      5\u001b[0m \u001b[0;34m\u001b[0m\u001b[0m\n\u001b[0;32m----> 6\u001b[0;31m         \u001b[0;32mfor\u001b[0m \u001b[0mi\u001b[0m \u001b[0;32min\u001b[0m \u001b[0mrange\u001b[0m\u001b[0;34m(\u001b[0m\u001b[0mgap\u001b[0m\u001b[0;34m,\u001b[0m \u001b[0mlen\u001b[0m\u001b[0;34m(\u001b[0m\u001b[0minput_list\u001b[0m\u001b[0;34m)\u001b[0m\u001b[0;34m)\u001b[0m\u001b[0;34m:\u001b[0m\u001b[0;34m\u001b[0m\u001b[0m\n\u001b[0m\u001b[1;32m      7\u001b[0m             \u001b[0mtemp\u001b[0m \u001b[0;34m=\u001b[0m \u001b[0minput_list\u001b[0m\u001b[0;34m[\u001b[0m\u001b[0mi\u001b[0m\u001b[0;34m]\u001b[0m\u001b[0;34m\u001b[0m\u001b[0m\n\u001b[1;32m      8\u001b[0m             \u001b[0mj\u001b[0m \u001b[0;34m=\u001b[0m \u001b[0mi\u001b[0m\u001b[0;34m\u001b[0m\u001b[0m\n",
      "\u001b[0;31mTypeError\u001b[0m: 'float' object cannot be interpreted as an integer"
     ]
    }
   ],
   "source": [
    "def shellSort(input_list):\n",
    "    \n",
    "    gap = len(input_list) / 2\n",
    "    while gap > 0:\n",
    "\n",
    "        for i in range(gap, len(input_list)):\n",
    "            temp = input_list[i]\n",
    "            j = i\n",
    "# Sort the sub list for this gap\n",
    "\n",
    "            while j >= gap and input_list[j - gap] > temp:\n",
    "                input_list[j] = input_list[j - gap]\n",
    "                j = j-gap\n",
    "            input_list[j] = temp\n",
    "\n",
    "# Reduce the gap for the next element\n",
    "\n",
    "        gap = gap/2\n",
    "\n",
    "list = [19,2,31,45,30,11,121,27]\n",
    "\n",
    "shellSort(list)\n",
    "print(list)"
   ]
  },
  {
   "cell_type": "code",
   "execution_count": 19,
   "metadata": {},
   "outputs": [
    {
     "name": "stdout",
     "output_type": "stream",
     "text": [
      "[2, 11, 19, 27, 30, 31, 45, 121]\n"
     ]
    }
   ],
   "source": [
    "def selection_sort(input_list):\n",
    "\n",
    "    for idx in range(len(input_list)):\n",
    "\n",
    "        min_idx = idx\n",
    "        for j in range( idx +1, len(input_list)):\n",
    "            if input_list[min_idx] > input_list[j]:\n",
    "                min_idx = j\n",
    "# Swap the minimum value with the compared value\n",
    "\n",
    "        input_list[idx], input_list[min_idx] = input_list[min_idx], input_list[idx]\n",
    "\n",
    "\n",
    "l = [19,2,31,45,30,11,121,27]\n",
    "selection_sort(l)\n",
    "print(l)"
   ]
  },
  {
   "cell_type": "code",
   "execution_count": null,
   "metadata": {},
   "outputs": [],
   "source": []
  },
  {
   "cell_type": "code",
   "execution_count": null,
   "metadata": {},
   "outputs": [],
   "source": []
  },
  {
   "cell_type": "code",
   "execution_count": null,
   "metadata": {},
   "outputs": [],
   "source": []
  }
 ],
 "metadata": {
  "kernelspec": {
   "display_name": "Python 3",
   "language": "python",
   "name": "python3"
  },
  "language_info": {
   "codemirror_mode": {
    "name": "ipython",
    "version": 3
   },
   "file_extension": ".py",
   "mimetype": "text/x-python",
   "name": "python",
   "nbconvert_exporter": "python",
   "pygments_lexer": "ipython3",
   "version": "3.6.3"
  }
 },
 "nbformat": 4,
 "nbformat_minor": 2
}
